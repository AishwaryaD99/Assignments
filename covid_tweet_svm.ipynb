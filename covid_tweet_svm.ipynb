{
  "cells": [
    {
      "cell_type": "markdown",
      "metadata": {
        "id": "view-in-github",
        "colab_type": "text"
      },
      "source": [
        "<a href=\"https://colab.research.google.com/github/AishwaryaD99/Assignments/blob/main/covid_tweet_svm.ipynb\" target=\"_parent\"><img src=\"https://colab.research.google.com/assets/colab-badge.svg\" alt=\"Open In Colab\"/></a>"
      ]
    },
    {
      "cell_type": "code",
      "execution_count": 1,
      "id": "6c42dff3",
      "metadata": {
        "id": "6c42dff3"
      },
      "outputs": [],
      "source": [
        "import numpy as np\n",
        "import pandas as pd\n",
        "import seaborn as sns\n",
        "import matplotlib.pyplot as plt\n",
        "import nltk   \n",
        "from nltk.corpus import stopwords   \n",
        "import re \n",
        "import string\n",
        "from sklearn.model_selection import train_test_split\n",
        "from sklearn.feature_extraction.text import TfidfVectorizer   \n",
        "from sklearn.svm import SVC  \n",
        "from sklearn.metrics import ConfusionMatrixDisplay,classification_report"
      ]
    },
    {
      "cell_type": "code",
      "execution_count": null,
      "id": "fee45e87",
      "metadata": {
        "id": "fee45e87"
      },
      "outputs": [],
      "source": [
        "df = pd.read_csv(r\"C:\\Users\\AryaDragneel\\Desktop\\COVIDSenti-A.csv\")"
      ]
    },
    {
      "cell_type": "code",
      "execution_count": null,
      "id": "58244f98",
      "metadata": {
        "id": "58244f98",
        "outputId": "088725a3-d2e4-4809-806e-ed462f5d108a"
      },
      "outputs": [
        {
          "data": {
            "text/html": [
              "<div>\n",
              "<style scoped>\n",
              "    .dataframe tbody tr th:only-of-type {\n",
              "        vertical-align: middle;\n",
              "    }\n",
              "\n",
              "    .dataframe tbody tr th {\n",
              "        vertical-align: top;\n",
              "    }\n",
              "\n",
              "    .dataframe thead th {\n",
              "        text-align: right;\n",
              "    }\n",
              "</style>\n",
              "<table border=\"1\" class=\"dataframe\">\n",
              "  <thead>\n",
              "    <tr style=\"text-align: right;\">\n",
              "      <th></th>\n",
              "      <th>tweet</th>\n",
              "      <th>label</th>\n",
              "    </tr>\n",
              "  </thead>\n",
              "  <tbody>\n",
              "    <tr>\n",
              "      <th>0</th>\n",
              "      <td>Coronavirus | Human Coronavirus Types | CDC ht...</td>\n",
              "      <td>neu</td>\n",
              "    </tr>\n",
              "    <tr>\n",
              "      <th>1</th>\n",
              "      <td>@shehryar_taseer That‚Äôs üíØ true , \\nCorona...</td>\n",
              "      <td>neu</td>\n",
              "    </tr>\n",
              "    <tr>\n",
              "      <th>2</th>\n",
              "      <td>TLDR: Not SARS, possibly new coronavirus. Diff...</td>\n",
              "      <td>neg</td>\n",
              "    </tr>\n",
              "    <tr>\n",
              "      <th>3</th>\n",
              "      <td>Disease outbreak news from the WHO: Middle Eas...</td>\n",
              "      <td>neu</td>\n",
              "    </tr>\n",
              "    <tr>\n",
              "      <th>4</th>\n",
              "      <td>China - Media: WSJ says sources tell them myst...</td>\n",
              "      <td>neu</td>\n",
              "    </tr>\n",
              "    <tr>\n",
              "      <th>...</th>\n",
              "      <td>...</td>\n",
              "      <td>...</td>\n",
              "    </tr>\n",
              "    <tr>\n",
              "      <th>29995</th>\n",
              "      <td>CDC: Re-test confirms Westerdam cruise ship pa...</td>\n",
              "      <td>neu</td>\n",
              "    </tr>\n",
              "    <tr>\n",
              "      <th>29996</th>\n",
              "      <td>Two doctors die of coronavirus within 24 hours...</td>\n",
              "      <td>neu</td>\n",
              "    </tr>\n",
              "    <tr>\n",
              "      <th>29997</th>\n",
              "      <td>BEIJING - The lockdown of Guo Jing's neighbour...</td>\n",
              "      <td>neu</td>\n",
              "    </tr>\n",
              "    <tr>\n",
              "      <th>29998</th>\n",
              "      <td>#CoronavirusOutbreak in #Balochistan !!\\n#CPEC...</td>\n",
              "      <td>neu</td>\n",
              "    </tr>\n",
              "    <tr>\n",
              "      <th>29999</th>\n",
              "      <td>The Australian dollar has hit a fresh decade l...</td>\n",
              "      <td>neu</td>\n",
              "    </tr>\n",
              "  </tbody>\n",
              "</table>\n",
              "<p>30000 rows × 2 columns</p>\n",
              "</div>"
            ],
            "text/plain": [
              "                                                   tweet label\n",
              "0      Coronavirus | Human Coronavirus Types | CDC ht...   neu\n",
              "1      @shehryar_taseer That‚Äôs üíØ true , \\nCorona...   neu\n",
              "2      TLDR: Not SARS, possibly new coronavirus. Diff...   neg\n",
              "3      Disease outbreak news from the WHO: Middle Eas...   neu\n",
              "4      China - Media: WSJ says sources tell them myst...   neu\n",
              "...                                                  ...   ...\n",
              "29995  CDC: Re-test confirms Westerdam cruise ship pa...   neu\n",
              "29996  Two doctors die of coronavirus within 24 hours...   neu\n",
              "29997  BEIJING - The lockdown of Guo Jing's neighbour...   neu\n",
              "29998  #CoronavirusOutbreak in #Balochistan !!\\n#CPEC...   neu\n",
              "29999  The Australian dollar has hit a fresh decade l...   neu\n",
              "\n",
              "[30000 rows x 2 columns]"
            ]
          },
          "execution_count": 62,
          "metadata": {},
          "output_type": "execute_result"
        }
      ],
      "source": [
        "df"
      ]
    },
    {
      "cell_type": "code",
      "execution_count": null,
      "id": "13a81440",
      "metadata": {
        "id": "13a81440",
        "outputId": "231eb4ce-6cc1-4501-bebd-a6cee00337f7"
      },
      "outputs": [
        {
          "data": {
            "text/plain": [
              "<bound method DataFrame.info of                                                    tweet label\n",
              "0      Coronavirus | Human Coronavirus Types | CDC ht...   neu\n",
              "1      @shehryar_taseer That‚Äôs üíØ true , \\nCorona...   neu\n",
              "2      TLDR: Not SARS, possibly new coronavirus. Diff...   neg\n",
              "3      Disease outbreak news from the WHO: Middle Eas...   neu\n",
              "4      China - Media: WSJ says sources tell them myst...   neu\n",
              "...                                                  ...   ...\n",
              "29995  CDC: Re-test confirms Westerdam cruise ship pa...   neu\n",
              "29996  Two doctors die of coronavirus within 24 hours...   neu\n",
              "29997  BEIJING - The lockdown of Guo Jing's neighbour...   neu\n",
              "29998  #CoronavirusOutbreak in #Balochistan !!\\n#CPEC...   neu\n",
              "29999  The Australian dollar has hit a fresh decade l...   neu\n",
              "\n",
              "[30000 rows x 2 columns]>"
            ]
          },
          "execution_count": 63,
          "metadata": {},
          "output_type": "execute_result"
        }
      ],
      "source": [
        "df.info"
      ]
    },
    {
      "cell_type": "code",
      "execution_count": null,
      "id": "7daec0c0",
      "metadata": {
        "id": "7daec0c0",
        "outputId": "9a4d331c-c7a9-4ad7-eb21-750c4f6efc5b"
      },
      "outputs": [
        {
          "data": {
            "text/plain": [
              "tweet    0\n",
              "label    0\n",
              "dtype: int64"
            ]
          },
          "execution_count": 64,
          "metadata": {},
          "output_type": "execute_result"
        }
      ],
      "source": [
        "df.isnull().sum()"
      ]
    },
    {
      "cell_type": "code",
      "execution_count": null,
      "id": "eb2f3585",
      "metadata": {
        "id": "eb2f3585",
        "outputId": "e5d6603a-d4ec-4ddb-f4d2-262b823e488b"
      },
      "outputs": [
        {
          "data": {
            "text/plain": [
              "neu    22949\n",
              "neg     5083\n",
              "pos     1968\n",
              "Name: label, dtype: int64"
            ]
          },
          "execution_count": 65,
          "metadata": {},
          "output_type": "execute_result"
        }
      ],
      "source": [
        "df[\"label\"].value_counts()"
      ]
    },
    {
      "cell_type": "code",
      "execution_count": null,
      "id": "9474b85d",
      "metadata": {
        "id": "9474b85d",
        "outputId": "c95d4573-3c9d-482f-c9f5-27b7c3da7775"
      },
      "outputs": [
        {
          "data": {
            "text/plain": [
              "<AxesSubplot:xlabel='label', ylabel='count'>"
            ]
          },
          "execution_count": 66,
          "metadata": {},
          "output_type": "execute_result"
        },
        {
          "data": {
            "image/png": "[encoded data removed]",
            "text/plain": [
              "<Figure size 432x288 with 1 Axes>"
            ]
          },
          "metadata": {
            "needs_background": "light"
          },
          "output_type": "display_data"
        }
      ],
      "source": [
        "sns.countplot(x=\"label\",data=df)"
      ]
    },
    {
      "cell_type": "code",
      "execution_count": null,
      "id": "e6f91030",
      "metadata": {
        "id": "e6f91030"
      },
      "outputs": [],
      "source": [
        "stop_words = set(stopwords.words('english'))"
      ]
    },
    {
      "cell_type": "code",
      "execution_count": null,
      "id": "b21e09c8",
      "metadata": {
        "id": "b21e09c8"
      },
      "outputs": [],
      "source": [
        "def clean(tweet):\n",
        "  if type(tweet) == float:\n",
        "    return \"\"\n",
        "  temp = tweet.lower() # Making all the words in lower case\n",
        "  temp = re.sub(\"'\",\"\",temp) #To avoid removing contractions in English\n",
        "  temp = re.sub(\"@[A-Za-z0-9_]+\",\"\", temp) #Removing mentions     \n",
        "  temp = re.sub(\"#[A-Za-z0-9_]+\",\"\", temp) #Removing hashtags\n",
        "  temp = re.sub(r'http\\S+', '', temp) #Removing links\n",
        "  temp = re.sub('\\[().*!?\\]', ' ', temp) # Removing punctuations\n",
        "  temp = re.sub(\"[^a-z0-9]\", \" \", temp)\n",
        "  temp = temp.split() # Splitting the sentence into individual words\n",
        "  temp = [w for w in temp if not w in stop_words]\n",
        "  temp = \" \".join(word for word in temp)\n",
        "  return temp\n"
      ]
    },
    {
      "cell_type": "code",
      "execution_count": null,
      "id": "0738084a",
      "metadata": {
        "id": "0738084a"
      },
      "outputs": [],
      "source": [
        "df['tweet'] = df['tweet'].apply(clean)"
      ]
    },
    {
      "cell_type": "code",
      "execution_count": null,
      "id": "d4df861d",
      "metadata": {
        "id": "d4df861d",
        "outputId": "35fd8a19-6aca-4577-c407-a27efddc1392"
      },
      "outputs": [
        {
          "data": {
            "text/html": [
              "<div>\n",
              "<style scoped>\n",
              "    .dataframe tbody tr th:only-of-type {\n",
              "        vertical-align: middle;\n",
              "    }\n",
              "\n",
              "    .dataframe tbody tr th {\n",
              "        vertical-align: top;\n",
              "    }\n",
              "\n",
              "    .dataframe thead th {\n",
              "        text-align: right;\n",
              "    }\n",
              "</style>\n",
              "<table border=\"1\" class=\"dataframe\">\n",
              "  <thead>\n",
              "    <tr style=\"text-align: right;\">\n",
              "      <th></th>\n",
              "      <th>tweet</th>\n",
              "      <th>label</th>\n",
              "    </tr>\n",
              "  </thead>\n",
              "  <tbody>\n",
              "    <tr>\n",
              "      <th>0</th>\n",
              "      <td>coronavirus human coronavirus types cdc</td>\n",
              "      <td>neu</td>\n",
              "    </tr>\n",
              "    <tr>\n",
              "      <th>1</th>\n",
              "      <td>true corona virus swine flue bird flu december...</td>\n",
              "      <td>neu</td>\n",
              "    </tr>\n",
              "    <tr>\n",
              "      <th>2</th>\n",
              "      <td>tldr sars possibly new coronavirus difficult c...</td>\n",
              "      <td>neg</td>\n",
              "    </tr>\n",
              "    <tr>\n",
              "      <th>3</th>\n",
              "      <td>disease outbreak news middle east respiratory ...</td>\n",
              "      <td>neu</td>\n",
              "    </tr>\n",
              "    <tr>\n",
              "      <th>4</th>\n",
              "      <td>china media wsj says sources tell mystery pneu...</td>\n",
              "      <td>neu</td>\n",
              "    </tr>\n",
              "    <tr>\n",
              "      <th>...</th>\n",
              "      <td>...</td>\n",
              "      <td>...</td>\n",
              "    </tr>\n",
              "    <tr>\n",
              "      <th>29995</th>\n",
              "      <td>cdc test confirms westerdam cruise ship passen...</td>\n",
              "      <td>neu</td>\n",
              "    </tr>\n",
              "    <tr>\n",
              "      <th>29996</th>\n",
              "      <td>two doctors die coronavirus within 24 hours ch...</td>\n",
              "      <td>neu</td>\n",
              "    </tr>\n",
              "    <tr>\n",
              "      <th>29997</th>\n",
              "      <td>beijing lockdown guo jings neighbourhood wuhan...</td>\n",
              "      <td>neu</td>\n",
              "    </tr>\n",
              "    <tr>\n",
              "      <th>29998</th>\n",
              "      <td>route spread</td>\n",
              "      <td>neu</td>\n",
              "    </tr>\n",
              "    <tr>\n",
              "      <th>29999</th>\n",
              "      <td>australian dollar hit fresh decade low investo...</td>\n",
              "      <td>neu</td>\n",
              "    </tr>\n",
              "  </tbody>\n",
              "</table>\n",
              "<p>30000 rows × 2 columns</p>\n",
              "</div>"
            ],
            "text/plain": [
              "                                                   tweet label\n",
              "0                coronavirus human coronavirus types cdc   neu\n",
              "1      true corona virus swine flue bird flu december...   neu\n",
              "2      tldr sars possibly new coronavirus difficult c...   neg\n",
              "3      disease outbreak news middle east respiratory ...   neu\n",
              "4      china media wsj says sources tell mystery pneu...   neu\n",
              "...                                                  ...   ...\n",
              "29995  cdc test confirms westerdam cruise ship passen...   neu\n",
              "29996  two doctors die coronavirus within 24 hours ch...   neu\n",
              "29997  beijing lockdown guo jings neighbourhood wuhan...   neu\n",
              "29998                                       route spread   neu\n",
              "29999  australian dollar hit fresh decade low investo...   neu\n",
              "\n",
              "[30000 rows x 2 columns]"
            ]
          },
          "execution_count": 70,
          "metadata": {},
          "output_type": "execute_result"
        }
      ],
      "source": [
        "df"
      ]
    },
    {
      "cell_type": "code",
      "execution_count": null,
      "id": "cc602be4",
      "metadata": {
        "id": "cc602be4",
        "outputId": "0f0334f6-3dc2-45aa-f998-aec075af12e2"
      },
      "outputs": [
        {
          "data": {
            "text/plain": [
              "2096"
            ]
          },
          "execution_count": 71,
          "metadata": {},
          "output_type": "execute_result"
        }
      ],
      "source": [
        "df.duplicated().sum()"
      ]
    },
    {
      "cell_type": "code",
      "execution_count": null,
      "id": "333d7371",
      "metadata": {
        "id": "333d7371"
      },
      "outputs": [],
      "source": [
        "df.drop_duplicates(inplace=True)"
      ]
    },
    {
      "cell_type": "code",
      "execution_count": null,
      "id": "5348fb69",
      "metadata": {
        "id": "5348fb69",
        "outputId": "8a96095d-24b6-44c4-f348-849d08621c60"
      },
      "outputs": [
        {
          "data": {
            "text/plain": [
              "<bound method DataFrame.info of                                                    tweet label\n",
              "0                coronavirus human coronavirus types cdc   neu\n",
              "1      true corona virus swine flue bird flu december...   neu\n",
              "2      tldr sars possibly new coronavirus difficult c...   neg\n",
              "3      disease outbreak news middle east respiratory ...   neu\n",
              "4      china media wsj says sources tell mystery pneu...   neu\n",
              "...                                                  ...   ...\n",
              "29995  cdc test confirms westerdam cruise ship passen...   neu\n",
              "29996  two doctors die coronavirus within 24 hours ch...   neu\n",
              "29997  beijing lockdown guo jings neighbourhood wuhan...   neu\n",
              "29998                                       route spread   neu\n",
              "29999  australian dollar hit fresh decade low investo...   neu\n",
              "\n",
              "[27904 rows x 2 columns]>"
            ]
          },
          "execution_count": 73,
          "metadata": {},
          "output_type": "execute_result"
        }
      ],
      "source": [
        "df.info"
      ]
    },
    {
      "cell_type": "code",
      "execution_count": null,
      "id": "9f494216",
      "metadata": {
        "id": "9f494216",
        "outputId": "0731388a-50f7-41c9-80c9-18bc554dcf12"
      },
      "outputs": [
        {
          "data": {
            "text/plain": [
              "<AxesSubplot:xlabel='label', ylabel='count'>"
            ]
          },
          "execution_count": 74,
          "metadata": {},
          "output_type": "execute_result"
        },
        {
          "data": {
            "image/png": "[encoded data removed]",
            "text/plain": [
              "<Figure size 432x288 with 1 Axes>"
            ]
          },
          "metadata": {
            "needs_background": "light"
          },
          "output_type": "display_data"
        }
      ],
      "source": [
        "sns.countplot(x=\"label\",data=df)"
      ]
    },
    {
      "cell_type": "code",
      "execution_count": null,
      "id": "9f3650b6",
      "metadata": {
        "id": "9f3650b6",
        "outputId": "060d3a4e-9ff3-45d0-a729-3e3bf6c4e01f"
      },
      "outputs": [
        {
          "ename": "TypeError",
          "evalue": "pie() got multiple values for argument 'x'",
          "output_type": "error",
          "traceback": [
            "\u001b[1;31m---------------------------------------------------------------------------\u001b[0m",
            "\u001b[1;31mTypeError\u001b[0m                                 Traceback (most recent call last)",
            "\u001b[1;32mC:\\Users\\ARYADR~1\\AppData\\Local\\Temp/ipykernel_12028/3337090629.py\u001b[0m in \u001b[0;36m<module>\u001b[1;34m\u001b[0m\n\u001b[1;32m----> 1\u001b[1;33m \u001b[0mplt\u001b[0m\u001b[1;33m.\u001b[0m\u001b[0mpie\u001b[0m\u001b[1;33m(\u001b[0m\u001b[0mdf\u001b[0m\u001b[1;33m,\u001b[0m \u001b[0mx\u001b[0m\u001b[1;33m=\u001b[0m\u001b[1;34m\"label\"\u001b[0m\u001b[1;33m,\u001b[0m \u001b[0mautopct\u001b[0m\u001b[1;33m=\u001b[0m\u001b[1;34m'%.0f%%'\u001b[0m\u001b[1;33m)\u001b[0m\u001b[1;33m\u001b[0m\u001b[1;33m\u001b[0m\u001b[0m\n\u001b[0m",
            "\u001b[1;31mTypeError\u001b[0m: pie() got multiple values for argument 'x'"
          ]
        }
      ],
      "source": [
        "plt.pie(df, x=\"label\", autopct='%.0f%%')"
      ]
    },
    {
      "cell_type": "code",
      "execution_count": null,
      "id": "7b8f035d",
      "metadata": {
        "id": "7b8f035d",
        "outputId": "d125b088-c36f-419e-b2ab-fbe09da4cbff"
      },
      "outputs": [
        {
          "data": {
            "image/png": "[encoded data removed]",
            "text/plain": [
              "<Figure size 432x288 with 1 Axes>"
            ]
          },
          "metadata": {},
          "output_type": "display_data"
        }
      ],
      "source": [
        "\n",
        "df['label'].value_counts().plot(kind='pie',autopct='%.2f')\n",
        "plt.show()"
      ]
    },
    {
      "cell_type": "code",
      "execution_count": null,
      "id": "0b335789",
      "metadata": {
        "id": "0b335789"
      },
      "outputs": [],
      "source": [
        "x=df[\"tweet\"]\n",
        "y=df[\"label\"]"
      ]
    },
    {
      "cell_type": "code",
      "execution_count": null,
      "id": "bb5f2134",
      "metadata": {
        "id": "bb5f2134"
      },
      "outputs": [],
      "source": [
        "x_train, x_test, y_train, y_test = train_test_split(x, y, test_size=0.3)"
      ]
    },
    {
      "cell_type": "code",
      "execution_count": null,
      "id": "4bf4aa7e",
      "metadata": {
        "id": "4bf4aa7e"
      },
      "outputs": [],
      "source": [
        "vectorizer = TfidfVectorizer(min_df = 5,\n",
        "                             max_df = 0.8,\n",
        "                             sublinear_tf = True,\n",
        "                             use_idf = True)\n",
        "train_vectors = vectorizer.fit_transform(x_train)\n",
        "test_vectors = vectorizer.transform(x_test)\n",
        "     "
      ]
    },
    {
      "cell_type": "code",
      "execution_count": null,
      "id": "b839c405",
      "metadata": {
        "id": "b839c405",
        "outputId": "a439f788-1d7c-4b47-81d9-ef473b26a80a"
      },
      "outputs": [
        {
          "data": {
            "text/html": [
              "<style>#sk-container-id-4 {color: black;background-color: white;}#sk-container-id-4 pre{padding: 0;}#sk-container-id-4 div.sk-toggleable {background-color: white;}#sk-container-id-4 label.sk-toggleable__label {cursor: pointer;display: block;width: 100%;margin-bottom: 0;padding: 0.3em;box-sizing: border-box;text-align: center;}#sk-container-id-4 label.sk-toggleable__label-arrow:before {content: \"▸\";float: left;margin-right: 0.25em;color: #696969;}#sk-container-id-4 label.sk-toggleable__label-arrow:hover:before {color: black;}#sk-container-id-4 div.sk-estimator:hover label.sk-toggleable__label-arrow:before {color: black;}#sk-container-id-4 div.sk-toggleable__content {max-height: 0;max-width: 0;overflow: hidden;text-align: left;background-color: #f0f8ff;}#sk-container-id-4 div.sk-toggleable__content pre {margin: 0.2em;color: black;border-radius: 0.25em;background-color: #f0f8ff;}#sk-container-id-4 input.sk-toggleable__control:checked~div.sk-toggleable__content {max-height: 200px;max-width: 100%;overflow: auto;}#sk-container-id-4 input.sk-toggleable__control:checked~label.sk-toggleable__label-arrow:before {content: \"▾\";}#sk-container-id-4 div.sk-estimator input.sk-toggleable__control:checked~label.sk-toggleable__label {background-color: #d4ebff;}#sk-container-id-4 div.sk-label input.sk-toggleable__control:checked~label.sk-toggleable__label {background-color: #d4ebff;}#sk-container-id-4 input.sk-hidden--visually {border: 0;clip: rect(1px 1px 1px 1px);clip: rect(1px, 1px, 1px, 1px);height: 1px;margin: -1px;overflow: hidden;padding: 0;position: absolute;width: 1px;}#sk-container-id-4 div.sk-estimator {font-family: monospace;background-color: #f0f8ff;border: 1px dotted black;border-radius: 0.25em;box-sizing: border-box;margin-bottom: 0.5em;}#sk-container-id-4 div.sk-estimator:hover {background-color: #d4ebff;}#sk-container-id-4 div.sk-parallel-item::after {content: \"\";width: 100%;border-bottom: 1px solid gray;flex-grow: 1;}#sk-container-id-4 div.sk-label:hover label.sk-toggleable__label {background-color: #d4ebff;}#sk-container-id-4 div.sk-serial::before {content: \"\";position: absolute;border-left: 1px solid gray;box-sizing: border-box;top: 0;bottom: 0;left: 50%;z-index: 0;}#sk-container-id-4 div.sk-serial {display: flex;flex-direction: column;align-items: center;background-color: white;padding-right: 0.2em;padding-left: 0.2em;position: relative;}#sk-container-id-4 div.sk-item {position: relative;z-index: 1;}#sk-container-id-4 div.sk-parallel {display: flex;align-items: stretch;justify-content: center;background-color: white;position: relative;}#sk-container-id-4 div.sk-item::before, #sk-container-id-4 div.sk-parallel-item::before {content: \"\";position: absolute;border-left: 1px solid gray;box-sizing: border-box;top: 0;bottom: 0;left: 50%;z-index: -1;}#sk-container-id-4 div.sk-parallel-item {display: flex;flex-direction: column;z-index: 1;position: relative;background-color: white;}#sk-container-id-4 div.sk-parallel-item:first-child::after {align-self: flex-end;width: 50%;}#sk-container-id-4 div.sk-parallel-item:last-child::after {align-self: flex-start;width: 50%;}#sk-container-id-4 div.sk-parallel-item:only-child::after {width: 0;}#sk-container-id-4 div.sk-dashed-wrapped {border: 1px dashed gray;margin: 0 0.4em 0.5em 0.4em;box-sizing: border-box;padding-bottom: 0.4em;background-color: white;}#sk-container-id-4 div.sk-label label {font-family: monospace;font-weight: bold;display: inline-block;line-height: 1.2em;}#sk-container-id-4 div.sk-label-container {text-align: center;}#sk-container-id-4 div.sk-container {/* jupyter's `normalize.less` sets `[hidden] { display: none; }` but bootstrap.min.css set `[hidden] { display: none !important; }` so we also need the `!important` here to be able to override the default hidden behavior on the sphinx rendered scikit-learn.org. See: https://github.com/scikit-learn/scikit-learn/issues/21755 */display: inline-block !important;position: relative;}#sk-container-id-4 div.sk-text-repr-fallback {display: none;}</style><div id=\"sk-container-id-4\" class=\"sk-top-container\"><div class=\"sk-text-repr-fallback\"><pre>SVC(kernel=&#x27;linear&#x27;)</pre><b>In a Jupyter environment, please rerun this cell to show the HTML representation or trust the notebook. <br />On GitHub, the HTML representation is unable to render, please try loading this page with nbviewer.org.</b></div><div class=\"sk-container\" hidden><div class=\"sk-item\"><div class=\"sk-estimator sk-toggleable\"><input class=\"sk-toggleable__control sk-hidden--visually\" id=\"sk-estimator-id-4\" type=\"checkbox\" checked><label for=\"sk-estimator-id-4\" class=\"sk-toggleable__label sk-toggleable__label-arrow\">SVC</label><div class=\"sk-toggleable__content\"><pre>SVC(kernel=&#x27;linear&#x27;)</pre></div></div></div></div></div>"
            ],
            "text/plain": [
              "SVC(kernel='linear')"
            ]
          },
          "execution_count": 80,
          "metadata": {},
          "output_type": "execute_result"
        }
      ],
      "source": [
        "clf = SVC(kernel='linear') \n",
        "clf.fit(train_vectors, y_train)"
      ]
    },
    {
      "cell_type": "code",
      "execution_count": null,
      "id": "a2ec04b7",
      "metadata": {
        "id": "a2ec04b7"
      },
      "outputs": [],
      "source": [
        "pred =clf.predict(test_vectors)"
      ]
    },
    {
      "cell_type": "code",
      "execution_count": null,
      "id": "30a80fd9",
      "metadata": {
        "id": "30a80fd9",
        "outputId": "27c50166-bdf8-40e5-c528-d0164e26fa07"
      },
      "outputs": [
        {
          "data": {
            "text/plain": [
              "<sklearn.metrics._plot.confusion_matrix.ConfusionMatrixDisplay at 0x18881cc5970>"
            ]
          },
          "execution_count": 82,
          "metadata": {},
          "output_type": "execute_result"
        },
        {
          "data": {
            "image/png": "[encoded data removed]",
            "text/plain": [
              "<Figure size 432x288 with 2 Axes>"
            ]
          },
          "metadata": {
            "needs_background": "light"
          },
          "output_type": "display_data"
        }
      ],
      "source": [
        "ConfusionMatrixDisplay.from_predictions(y_test, pred)"
      ]
    },
    {
      "cell_type": "code",
      "execution_count": null,
      "id": "bdb1a300",
      "metadata": {
        "id": "bdb1a300",
        "outputId": "e512811b-9cbc-4f8b-83a2-b9025c1938ce"
      },
      "outputs": [
        {
          "name": "stdout",
          "output_type": "stream",
          "text": [
            "              precision    recall  f1-score   support\n",
            "\n",
            "         neg       0.85      0.70      0.77      1450\n",
            "         neu       0.89      0.96      0.92      6369\n",
            "         pos       0.76      0.36      0.49       553\n",
            "\n",
            "    accuracy                           0.88      8372\n",
            "   macro avg       0.83      0.68      0.73      8372\n",
            "weighted avg       0.87      0.88      0.87      8372\n",
            "\n"
          ]
        }
      ],
      "source": [
        "print(classification_report(y_test, pred))"
      ]
    },
    {
      "cell_type": "code",
      "execution_count": null,
      "id": "511cc919",
      "metadata": {
        "id": "511cc919"
      },
      "outputs": [],
      "source": []
    }
  ],
  "metadata": {
    "kernelspec": {
      "display_name": "Python 3 (ipykernel)",
      "language": "python",
      "name": "python3"
    },
    "language_info": {
      "codemirror_mode": {
        "name": "ipython",
        "version": 3
      },
      "file_extension": ".py",
      "mimetype": "text/x-python",
      "name": "python",
      "nbconvert_exporter": "python",
      "pygments_lexer": "ipython3",
      "version": "3.9.7"
    },
    "colab": {
      "provenance": [],
      "include_colab_link": true
    }
  },
  "nbformat": 4,
  "nbformat_minor": 5
}